{
 "cells": [
  {
   "cell_type": "code",
   "execution_count": 152,
   "id": "7fc87c3e",
   "metadata": {},
   "outputs": [],
   "source": [
    "train_dir = \"C:/Users/user/OneDrive/Desktop/New/data/train\"\n",
    "val_dir   = \"C:/Users/user/OneDrive/Desktop/New/data/val\"\n",
    "test_dir = \"C:/Users/user/OneDrive/Desktop/New/data/test\""
   ]
  },
  {
   "cell_type": "code",
   "execution_count": 98,
   "id": "020214b0",
   "metadata": {},
   "outputs": [
    {
     "name": "stdout",
     "output_type": "stream",
     "text": [
      "Found 936 images belonging to 36 classes.\n",
      "Found 216 images belonging to 36 classes.\n",
      "Found 360 images belonging to 36 classes.\n"
     ]
    }
   ],
   "source": [
    "from tensorflow.keras.preprocessing.image import ImageDataGenerator\n",
    "train_datagen = ImageDataGenerator(rescale=1./255, \n",
    "        width_shift_range=0.1, height_shift_range=0.1)\n",
    "\n",
    "train_generator = train_datagen.flow_from_directory(\n",
    "        train_dir,  \n",
    "        target_size=(28,28),\n",
    "        batch_size=1,\n",
    "        class_mode='sparse',shuffle = False)\n",
    "\n",
    "validation_generator = train_datagen.flow_from_directory(\n",
    "        val_dir,  \n",
    "        target_size=(28,28),  \n",
    "        class_mode='sparse',shuffle = False)\n",
    "\n",
    "test_generator = train_datagen.flow_from_directory(\n",
    "        test_dir,\n",
    "        target_size=(28,28),  \n",
    "        class_mode='sparse',shuffle = False)"
   ]
  },
  {
   "cell_type": "code",
   "execution_count": 68,
   "id": "7bdf21ec",
   "metadata": {},
   "outputs": [
    {
     "name": "stdout",
     "output_type": "stream",
     "text": [
      "['class_0', 'class_1', 'class_2', 'class_3', 'class_4', 'class_5', 'class_6', 'class_7', 'class_8', 'class_9', 'class_A', 'class_B', 'class_C', 'class_D', 'class_E', 'class_F', 'class_G', 'class_H', 'class_I', 'class_J', 'class_K', 'class_L', 'class_M', 'class_N', 'class_O', 'class_P', 'class_Q', 'class_R', 'class_S', 'class_T', 'class_U', 'class_V', 'class_W', 'class_X', 'class_Y', 'class_Z']\n"
     ]
    }
   ],
   "source": [
    "labels = list(train_generator.class_indices.keys())\n",
    "print(labels)"
   ]
  },
  {
   "cell_type": "code",
   "execution_count": 69,
   "id": "f2695ee5",
   "metadata": {},
   "outputs": [],
   "source": [
    "import matplotlib.pyplot as plt\n",
    "import numpy as np\n",
    "import cv2\n",
    "import tensorflow as tf\n",
    "from sklearn.metrics import f1_score \n",
    "from tensorflow.keras import optimizers\n",
    "from tensorflow.keras.models import Sequential\n",
    "from tensorflow.keras.layers import Dense, Flatten, MaxPooling2D, Dropout, Conv2D\n",
    "model = Sequential()\n",
    "model.add(Conv2D(16, (22,22), input_shape=(28, 28, 3), activation='relu', padding='same'))\n",
    "model.add(Conv2D(32, (16,16), input_shape=(28, 28, 3), activation='relu', padding='same'))\n",
    "model.add(Conv2D(64, (8,8), input_shape=(28, 28, 3), activation='relu', padding='same'))\n",
    "model.add(Conv2D(64, (4,4), input_shape=(28, 28, 3), activation='relu', padding='same'))\n",
    "model.add(MaxPooling2D(pool_size=(4, 4)))\n",
    "model.add(Dropout(0.4))\n",
    "model.add(Flatten())\n",
    "model.add(Dense(128, activation='relu'))\n",
    "model.add(Dense(36, activation='softmax'))"
   ]
  },
  {
   "cell_type": "code",
   "execution_count": 70,
   "id": "b01034fd",
   "metadata": {},
   "outputs": [
    {
     "name": "stdout",
     "output_type": "stream",
     "text": [
      "Model: \"sequential_1\"\n",
      "_________________________________________________________________\n",
      " Layer (type)                Output Shape              Param #   \n",
      "=================================================================\n",
      " conv2d_4 (Conv2D)           (None, 28, 28, 16)        23248     \n",
      "                                                                 \n",
      " conv2d_5 (Conv2D)           (None, 28, 28, 32)        131104    \n",
      "                                                                 \n",
      " conv2d_6 (Conv2D)           (None, 28, 28, 64)        131136    \n",
      "                                                                 \n",
      " conv2d_7 (Conv2D)           (None, 28, 28, 64)        65600     \n",
      "                                                                 \n",
      " max_pooling2d_1 (MaxPooling  (None, 7, 7, 64)         0         \n",
      " 2D)                                                             \n",
      "                                                                 \n",
      " dropout_1 (Dropout)         (None, 7, 7, 64)          0         \n",
      "                                                                 \n",
      " flatten_1 (Flatten)         (None, 3136)              0         \n",
      "                                                                 \n",
      " dense_2 (Dense)             (None, 128)               401536    \n",
      "                                                                 \n",
      " dense_3 (Dense)             (None, 36)                4644      \n",
      "                                                                 \n",
      "=================================================================\n",
      "Total params: 757,268\n",
      "Trainable params: 757,268\n",
      "Non-trainable params: 0\n",
      "_________________________________________________________________\n"
     ]
    }
   ],
   "source": [
    "model.summary()"
   ]
  },
  {
   "cell_type": "code",
   "execution_count": 71,
   "id": "e5519500",
   "metadata": {},
   "outputs": [],
   "source": [
    "# Metrics for checking the model performance while training\n",
    "def f1score(y, y_pred):\n",
    "  return f1_score(y, tf.math.argmax(y_pred, axis=1), average='micro') \n",
    "\n",
    "def custom_f1score(y, y_pred):\n",
    "  return tf.py_function(f1score, (y, y_pred), tf.double)\n",
    "model.compile(loss='sparse_categorical_crossentropy', \n",
    "              optimizer=optimizers.Adam(lr=0.0001), \n",
    "              metrics=[custom_f1score])"
   ]
  },
  {
   "cell_type": "code",
   "execution_count": 72,
   "id": "b0473a90",
   "metadata": {},
   "outputs": [],
   "source": [
    "class stop_training_callback(tf.keras.callbacks.Callback):\n",
    "  def on_epoch_end(self, epoch, logs={}):\n",
    "    if(logs.get('val_custom_f1score') > 0.99):\n",
    "      self.model.stop_training = True"
   ]
  },
  {
   "cell_type": "code",
   "execution_count": 73,
   "id": "c20891dc",
   "metadata": {},
   "outputs": [
    {
     "name": "stdout",
     "output_type": "stream",
     "text": [
      "Epoch 1/80\n",
      "936/936 [==============================] - 34s 36ms/step - loss: 3.1019 - custom_f1score: 0.1645 - val_loss: 2.0963 - val_custom_f1score: 0.3780\n",
      "Epoch 2/80\n",
      "936/936 [==============================] - 34s 36ms/step - loss: 1.5340 - custom_f1score: 0.5481 - val_loss: 0.9412 - val_custom_f1score: 0.7277\n",
      "Epoch 3/80\n",
      "936/936 [==============================] - 34s 36ms/step - loss: 0.7518 - custom_f1score: 0.7585 - val_loss: 0.6055 - val_custom_f1score: 0.8318\n",
      "Epoch 4/80\n",
      "936/936 [==============================] - 34s 36ms/step - loss: 0.4864 - custom_f1score: 0.8408 - val_loss: 0.4468 - val_custom_f1score: 0.8676\n",
      "Epoch 5/80\n",
      "936/936 [==============================] - 34s 36ms/step - loss: 0.3954 - custom_f1score: 0.8750 - val_loss: 0.3523 - val_custom_f1score: 0.9033\n",
      "Epoch 6/80\n",
      "936/936 [==============================] - 34s 36ms/step - loss: 0.3041 - custom_f1score: 0.9028 - val_loss: 0.1282 - val_custom_f1score: 0.9673\n",
      "Epoch 7/80\n",
      "936/936 [==============================] - 34s 36ms/step - loss: 0.1990 - custom_f1score: 0.9316 - val_loss: 0.1521 - val_custom_f1score: 0.9539\n",
      "Epoch 8/80\n",
      "936/936 [==============================] - 35s 37ms/step - loss: 0.2576 - custom_f1score: 0.9188 - val_loss: 0.2156 - val_custom_f1score: 0.9271\n",
      "Epoch 9/80\n",
      "936/936 [==============================] - 34s 36ms/step - loss: 0.1976 - custom_f1score: 0.9391 - val_loss: 0.1420 - val_custom_f1score: 0.9598\n",
      "Epoch 10/80\n",
      "936/936 [==============================] - 34s 36ms/step - loss: 0.1493 - custom_f1score: 0.9444 - val_loss: 0.1619 - val_custom_f1score: 0.9539\n",
      "Epoch 11/80\n",
      "936/936 [==============================] - 34s 36ms/step - loss: 0.1596 - custom_f1score: 0.9444 - val_loss: 0.0442 - val_custom_f1score: 0.9821\n",
      "Epoch 12/80\n",
      "936/936 [==============================] - 34s 36ms/step - loss: 0.1071 - custom_f1score: 0.9701 - val_loss: 0.1689 - val_custom_f1score: 0.9405\n",
      "Epoch 13/80\n",
      "936/936 [==============================] - 34s 37ms/step - loss: 0.1512 - custom_f1score: 0.9509 - val_loss: 0.0498 - val_custom_f1score: 0.9807\n",
      "Epoch 14/80\n",
      "936/936 [==============================] - 34s 36ms/step - loss: 0.1303 - custom_f1score: 0.9573 - val_loss: 0.0287 - val_custom_f1score: 0.9911\n"
     ]
    },
    {
     "data": {
      "text/plain": [
       "<keras.callbacks.History at 0x26c54a96ee0>"
      ]
     },
     "execution_count": 73,
     "metadata": {},
     "output_type": "execute_result"
    }
   ],
   "source": [
    "batch_size = 1\n",
    "callbacks = [stop_training_callback()]\n",
    "model.fit(\n",
    "      train_generator,\n",
    "      steps_per_epoch = train_generator.samples // batch_size,\n",
    "      validation_data = validation_generator, \n",
    "      epochs = 80, verbose=1, callbacks=callbacks)"
   ]
  },
  {
   "cell_type": "code",
   "execution_count": 74,
   "id": "5bd0f9b1",
   "metadata": {},
   "outputs": [
    {
     "name": "stdout",
     "output_type": "stream",
     "text": [
      "936/936 [==============================] - 7s 7ms/step - loss: 0.0526 - custom_f1score: 0.9776\n",
      "The accuracy of the model is 0.978\n",
      "The Loss in the model is 0.053\n"
     ]
    }
   ],
   "source": [
    "loss, acc = model.evaluate(train_generator, steps=train_generator.n//batch_size)\n",
    "print(\"The accuracy of the model is {:.3f}\\nThe Loss in the model is {:.3f}\".format(acc,loss))"
   ]
  },
  {
   "cell_type": "code",
   "execution_count": 188,
   "id": "c087a027",
   "metadata": {},
   "outputs": [],
   "source": [
    "import numpy as np\n",
    "from sklearn.metrics import classification_report, confusion_matrix\n",
    "\n",
    "preds=model.predict(validation_generator)"
   ]
  },
  {
   "cell_type": "code",
   "execution_count": 189,
   "id": "81b2faca",
   "metadata": {},
   "outputs": [
    {
     "data": {
      "text/plain": [
       "array([[7.6061571e-01, 2.7106029e-05, 9.6887889e-06, ..., 1.2183587e-05,\n",
       "        1.5332422e-04, 1.1361237e-05],\n",
       "       [7.0801169e-01, 3.8088368e-05, 1.2135729e-05, ..., 4.0910535e-07,\n",
       "        6.4787033e-05, 1.5074745e-06],\n",
       "       [9.1151792e-01, 1.5799735e-05, 2.3294588e-06, ..., 5.4030911e-06,\n",
       "        3.7847702e-05, 3.6965018e-06],\n",
       "       ...,\n",
       "       [1.3910890e-11, 1.1650154e-10, 3.2748377e-03, ..., 1.9989452e-07,\n",
       "        5.3495006e-07, 9.9618405e-01],\n",
       "       [1.8983659e-09, 3.9493314e-10, 2.2046100e-03, ..., 7.0236062e-08,\n",
       "        1.9352733e-06, 9.6450394e-01],\n",
       "       [4.1988272e-13, 1.6475272e-13, 7.0215217e-05, ..., 1.1371328e-09,\n",
       "        6.2702119e-09, 9.9992490e-01]], dtype=float32)"
      ]
     },
     "execution_count": 189,
     "metadata": {},
     "output_type": "execute_result"
    }
   ],
   "source": [
    "preds"
   ]
  },
  {
   "cell_type": "code",
   "execution_count": 190,
   "id": "67864e0c",
   "metadata": {},
   "outputs": [
    {
     "data": {
      "text/plain": [
       "array([ 0,  0,  0,  0, 24,  0,  1,  1,  1,  1,  1,  1,  2,  2,  2,  2,  2,\n",
       "        2,  3,  3,  3,  3,  3,  3,  4,  4,  4,  4,  4,  4,  5,  5,  5,  5,\n",
       "        5,  5,  6,  6,  6,  6,  6,  6,  7,  7,  7,  7,  7,  7,  8,  8,  8,\n",
       "        8,  8,  8,  9,  9,  9,  9,  9,  9, 10, 10, 10, 10, 10, 10, 11, 11,\n",
       "       11, 11, 11, 11, 12, 12, 12, 12, 12, 12, 13, 13, 13, 13, 13, 13, 14,\n",
       "       14, 14, 14, 14, 14, 15, 15, 15, 15, 15, 15, 16, 16, 16, 16, 16, 16,\n",
       "       17, 17, 17, 17, 17, 17, 18, 18, 18, 18, 18, 18, 19, 19, 19, 19, 19,\n",
       "       29, 20, 20, 20, 20, 20, 20, 21, 21, 21, 21, 21, 21, 15, 22, 22, 22,\n",
       "       22, 22, 23, 23, 23, 23, 23, 23, 24, 24,  0,  0, 24, 24, 25, 25, 25,\n",
       "       25, 25, 25, 26, 26, 26, 26, 26, 26, 27, 27, 27, 27, 27, 27, 28, 28,\n",
       "       28, 28, 28, 28, 29, 29, 29, 29, 29, 29, 30, 30, 30, 30, 30, 30, 31,\n",
       "       31, 31, 31, 31, 31, 32, 32, 32, 32, 32, 32, 33, 33, 33, 33, 33, 33,\n",
       "       34, 34, 34, 34, 34, 34, 35, 35, 35, 35, 35, 35], dtype=int64)"
      ]
     },
     "execution_count": 190,
     "metadata": {},
     "output_type": "execute_result"
    }
   ],
   "source": [
    "y_pred = np.argmax(preds,axis=1)\n",
    "y_pred"
   ]
  },
  {
   "cell_type": "code",
   "execution_count": 191,
   "id": "5484dbaa",
   "metadata": {},
   "outputs": [
    {
     "data": {
      "text/plain": [
       "array([ 0,  0,  0,  0,  0,  0,  1,  1,  1,  1,  1,  1,  2,  2,  2,  2,  2,\n",
       "        2,  3,  3,  3,  3,  3,  3,  4,  4,  4,  4,  4,  4,  5,  5,  5,  5,\n",
       "        5,  5,  6,  6,  6,  6,  6,  6,  7,  7,  7,  7,  7,  7,  8,  8,  8,\n",
       "        8,  8,  8,  9,  9,  9,  9,  9,  9, 10, 10, 10, 10, 10, 10, 11, 11,\n",
       "       11, 11, 11, 11, 12, 12, 12, 12, 12, 12, 13, 13, 13, 13, 13, 13, 14,\n",
       "       14, 14, 14, 14, 14, 15, 15, 15, 15, 15, 15, 16, 16, 16, 16, 16, 16,\n",
       "       17, 17, 17, 17, 17, 17, 18, 18, 18, 18, 18, 18, 19, 19, 19, 19, 19,\n",
       "       19, 20, 20, 20, 20, 20, 20, 21, 21, 21, 21, 21, 21, 22, 22, 22, 22,\n",
       "       22, 22, 23, 23, 23, 23, 23, 23, 24, 24, 24, 24, 24, 24, 25, 25, 25,\n",
       "       25, 25, 25, 26, 26, 26, 26, 26, 26, 27, 27, 27, 27, 27, 27, 28, 28,\n",
       "       28, 28, 28, 28, 29, 29, 29, 29, 29, 29, 30, 30, 30, 30, 30, 30, 31,\n",
       "       31, 31, 31, 31, 31, 32, 32, 32, 32, 32, 32, 33, 33, 33, 33, 33, 33,\n",
       "       34, 34, 34, 34, 34, 34, 35, 35, 35, 35, 35, 35])"
      ]
     },
     "execution_count": 191,
     "metadata": {},
     "output_type": "execute_result"
    }
   ],
   "source": [
    "y_actual = validation_generator.classes\n",
    "y_actual"
   ]
  },
  {
   "cell_type": "code",
   "execution_count": 130,
   "id": "8d17def8",
   "metadata": {},
   "outputs": [
    {
     "name": "stdout",
     "output_type": "stream",
     "text": [
      "['class_0', 'class_1', 'class_2', 'class_3', 'class_4', 'class_5', 'class_6', 'class_7', 'class_8', 'class_9', 'class_A', 'class_B', 'class_C', 'class_D', 'class_E', 'class_F', 'class_G', 'class_H', 'class_I', 'class_J', 'class_K', 'class_L', 'class_M', 'class_N', 'class_O', 'class_P', 'class_Q', 'class_R', 'class_S', 'class_T', 'class_U', 'class_V', 'class_W', 'class_X', 'class_Y', 'class_Z']\n"
     ]
    }
   ],
   "source": [
    "l = list(train_generator.class_indices.keys())\n",
    "print(l)"
   ]
  },
  {
   "cell_type": "code",
   "execution_count": 141,
   "id": "84923699",
   "metadata": {},
   "outputs": [
    {
     "data": {
      "image/png": "[encoded data removed]",
      "text/plain": [
       "<Figure size 1152x936 with 2 Axes>"
      ]
     },
     "metadata": {
      "needs_background": "light"
     },
     "output_type": "display_data"
    }
   ],
   "source": [
    "from sklearn.metrics import confusion_matrix, ConfusionMatrixDisplay\n",
    "import pandas as pd\n",
    "import numpy as np\n",
    "import seaborn as sns\n",
    "cm = confusion_matrix(y_actual, y_pred)\n",
    "\n",
    "cm_df = pd.DataFrame(cm,\n",
    "                     index = l, \n",
    "                     columns = l)\n",
    "plt.figure(figsize=(16,13))\n",
    "sns.heatmap(cm_df, annot=True)\n",
    "plt.title('Confusion Matrix')\n",
    "plt.ylabel('Actal Values')\n",
    "plt.xlabel('Predicted Values')\n",
    "plt.show()\n",
    "# disp = ConfusionMatrixDisplay(confusion_matrix=cm,\n",
    "#                               display_labels=l)\n",
    "# f = plt.figure()\n",
    "# disp.plot()\n",
    "# plt.show()"
   ]
  },
  {
   "cell_type": "code",
   "execution_count": 192,
   "id": "5eae3cb0",
   "metadata": {},
   "outputs": [
    {
     "name": "stdout",
     "output_type": "stream",
     "text": [
      "              precision    recall  f1-score   support\n",
      "\n",
      "           0       0.71      0.83      0.77         6\n",
      "           1       1.00      1.00      1.00         6\n",
      "           2       1.00      1.00      1.00         6\n",
      "           3       1.00      1.00      1.00         6\n",
      "           4       1.00      1.00      1.00         6\n",
      "           5       1.00      1.00      1.00         6\n",
      "           6       1.00      1.00      1.00         6\n",
      "           7       1.00      1.00      1.00         6\n",
      "           8       1.00      1.00      1.00         6\n",
      "           9       1.00      1.00      1.00         6\n",
      "          10       1.00      1.00      1.00         6\n",
      "          11       1.00      1.00      1.00         6\n",
      "          12       1.00      1.00      1.00         6\n",
      "          13       1.00      1.00      1.00         6\n",
      "          14       1.00      1.00      1.00         6\n",
      "          15       0.86      1.00      0.92         6\n",
      "          16       1.00      1.00      1.00         6\n",
      "          17       1.00      1.00      1.00         6\n",
      "          18       1.00      1.00      1.00         6\n",
      "          19       1.00      0.83      0.91         6\n",
      "          20       1.00      1.00      1.00         6\n",
      "          21       1.00      1.00      1.00         6\n",
      "          22       1.00      0.83      0.91         6\n",
      "          23       1.00      1.00      1.00         6\n",
      "          24       0.80      0.67      0.73         6\n",
      "          25       1.00      1.00      1.00         6\n",
      "          26       1.00      1.00      1.00         6\n",
      "          27       1.00      1.00      1.00         6\n",
      "          28       1.00      1.00      1.00         6\n",
      "          29       0.86      1.00      0.92         6\n",
      "          30       1.00      1.00      1.00         6\n",
      "          31       1.00      1.00      1.00         6\n",
      "          32       1.00      1.00      1.00         6\n",
      "          33       1.00      1.00      1.00         6\n",
      "          34       1.00      1.00      1.00         6\n",
      "          35       1.00      1.00      1.00         6\n",
      "\n",
      "    accuracy                           0.98       216\n",
      "   macro avg       0.98      0.98      0.98       216\n",
      "weighted avg       0.98      0.98      0.98       216\n",
      "\n"
     ]
    }
   ],
   "source": [
    "print(classification_report(y_true=y_actual, y_pred=y_pred))"
   ]
  },
  {
   "cell_type": "code",
   "execution_count": 167,
   "id": "d0c3294d",
   "metadata": {},
   "outputs": [
    {
     "name": "stdout",
     "output_type": "stream",
     "text": [
      "Found 360 images belonging to 36 classes.\n"
     ]
    }
   ],
   "source": [
    "from tensorflow import keras\n",
    "test_dir = \"C:/Users/user/OneDrive/Desktop/New/data/test\"\n",
    "from tensorflow.keras.preprocessing.image import ImageDataGenerator\n",
    "train_datagen = ImageDataGenerator(rescale=1./255, \n",
    "        width_shift_range=0.1, height_shift_range=0.1)\n",
    "test_generator = train_datagen.flow_from_directory(\n",
    "        test_dir,\n",
    "        target_size=(28,28),  \n",
    "        class_mode='sparse',shuffle = False)\n",
    "# image = tf.keras.preprocessing.image.load_img('C:/Users/user/OneDrive/Desktop/New/data/test/class_0')\n",
    "# img_array = keras.preprocessing.image.img_to_array(image)\n",
    "# input_arr = np.array([input_arr])\n"
   ]
  },
  {
   "cell_type": "code",
   "execution_count": 170,
   "id": "58e0e068",
   "metadata": {},
   "outputs": [
    {
     "data": {
      "text/plain": [
       "12"
      ]
     },
     "execution_count": 170,
     "metadata": {},
     "output_type": "execute_result"
    }
   ],
   "source": [
    "len(test_generator)"
   ]
  },
  {
   "cell_type": "code",
   "execution_count": 174,
   "id": "afa0098f",
   "metadata": {},
   "outputs": [],
   "source": [
    "img = keras.preprocessing.image.load_img(\n",
    "    'C:/Users/user/OneDrive/Desktop/New/data/test/class_0/class_0_13.jpg', target_size=(28,28)\n",
    ")\n",
    "img_array = keras.preprocessing.image.img_to_array(img)\n",
    "img_array = tf.expand_dims(img_array, 0)"
   ]
  },
  {
   "cell_type": "code",
   "execution_count": 175,
   "id": "57341b19",
   "metadata": {},
   "outputs": [
    {
     "data": {
      "text/plain": [
       "<tf.Tensor: shape=(1, 28, 28, 3), dtype=float32, numpy=\n",
       "array([[[[0., 0., 0.],\n",
       "         [0., 0., 0.],\n",
       "         [0., 0., 0.],\n",
       "         ...,\n",
       "         [0., 0., 0.],\n",
       "         [0., 0., 0.],\n",
       "         [0., 0., 0.]],\n",
       "\n",
       "        [[0., 0., 0.],\n",
       "         [0., 0., 0.],\n",
       "         [3., 3., 3.],\n",
       "         ...,\n",
       "         [1., 1., 1.],\n",
       "         [0., 0., 0.],\n",
       "         [1., 1., 1.]],\n",
       "\n",
       "        [[2., 2., 2.],\n",
       "         [1., 1., 1.],\n",
       "         [0., 0., 0.],\n",
       "         ...,\n",
       "         [0., 0., 0.],\n",
       "         [0., 0., 0.],\n",
       "         [1., 1., 1.]],\n",
       "\n",
       "        ...,\n",
       "\n",
       "        [[0., 0., 0.],\n",
       "         [0., 0., 0.],\n",
       "         [2., 2., 2.],\n",
       "         ...,\n",
       "         [0., 0., 0.],\n",
       "         [0., 0., 0.],\n",
       "         [0., 0., 0.]],\n",
       "\n",
       "        [[1., 1., 1.],\n",
       "         [0., 0., 0.],\n",
       "         [0., 0., 0.],\n",
       "         ...,\n",
       "         [0., 0., 0.],\n",
       "         [0., 0., 0.],\n",
       "         [0., 0., 0.]],\n",
       "\n",
       "        [[0., 0., 0.],\n",
       "         [0., 0., 0.],\n",
       "         [0., 0., 0.],\n",
       "         ...,\n",
       "         [0., 0., 0.],\n",
       "         [0., 0., 0.],\n",
       "         [0., 0., 0.]]]], dtype=float32)>"
      ]
     },
     "execution_count": 175,
     "metadata": {},
     "output_type": "execute_result"
    }
   ],
   "source": [
    "img_array"
   ]
  },
  {
   "cell_type": "code",
   "execution_count": 178,
   "id": "7b952ac1",
   "metadata": {},
   "outputs": [
    {
     "name": "stdout",
     "output_type": "stream",
     "text": [
      "36.83435700004338\n"
     ]
    }
   ],
   "source": [
    "from time import perf_counter\n",
    "t_time = 0\n",
    "for i in range(0,100):\n",
    "    time_start = perf_counter()\n",
    "    predictions = model.predict(img_array)\n",
    "    time_end = perf_counter()\n",
    "    t_time = t_time + (time_end - time_start)*1000\n",
    "print(t_time/100)"
   ]
  },
  {
   "cell_type": "code",
   "execution_count": 197,
   "id": "e9a47a08",
   "metadata": {},
   "outputs": [
    {
     "name": "stdout",
     "output_type": "stream",
     "text": [
      "Found 360 files belonging to 36 classes.\n"
     ]
    }
   ],
   "source": [
    "test_ds = tf.keras.preprocessing.image_dataset_from_directory(\n",
    "  'C:/Users/user/OneDrive/Desktop/New/data/test',\n",
    "  image_size=(28,28),shuffle = False)"
   ]
  },
  {
   "cell_type": "code",
   "execution_count": 202,
   "id": "feee539b",
   "metadata": {},
   "outputs": [
    {
     "name": "stdout",
     "output_type": "stream",
     "text": [
      "\n",
      " Test accuracy: 0.9817708134651184\n"
     ]
    }
   ],
   "source": [
    "score = model.evaluate(test_ds, verbose=0)\n",
    "print('\\n', 'Test accuracy:', score[1])"
   ]
  },
  {
   "cell_type": "code",
   "execution_count": 200,
   "id": "5bd5291a",
   "metadata": {},
   "outputs": [
    {
     "name": "stdout",
     "output_type": "stream",
     "text": [
      "0.002921558611099802\n"
     ]
    }
   ],
   "source": [
    "time_start = perf_counter()\n",
    "Y_pred = model.predict(test_ds)\n",
    "time_end = perf_counter()\n",
    "print((time_end - time_start)/360)"
   ]
  },
  {
   "cell_type": "code",
   "execution_count": null,
   "id": "9ae1cd2c",
   "metadata": {},
   "outputs": [],
   "source": []
  }
 ],
 "metadata": {
  "kernelspec": {
   "display_name": "Python 3 (ipykernel)",
   "language": "python",
   "name": "python3"
  },
  "language_info": {
   "codemirror_mode": {
    "name": "ipython",
    "version": 3
   },
   "file_extension": ".py",
   "mimetype": "text/x-python",
   "name": "python",
   "nbconvert_exporter": "python",
   "pygments_lexer": "ipython3",
   "version": "3.9.7"
  }
 },
 "nbformat": 4,
 "nbformat_minor": 5
}
